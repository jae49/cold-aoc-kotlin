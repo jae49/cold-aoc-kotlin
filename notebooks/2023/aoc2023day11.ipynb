{
 "cells": [
  {
   "cell_type": "code",
   "execution_count": 1,
   "metadata": {
    "collapsed": true,
    "ExecuteTime": {
     "end_time": "2023-12-11T22:50:52.799978919Z",
     "start_time": "2023-12-11T22:50:47.691897364Z"
    }
   },
   "outputs": [],
   "source": [
    "import java.io.File\n",
    "%use kandy, dataframe"
   ]
  },
  {
   "cell_type": "code",
   "execution_count": 2,
   "outputs": [],
   "source": [
    "val input = File(\"../../src/main/resources/data/2023/day11/input.txt\").readLines()\n",
    "val testInput1 = File(\"../../src/test/resources/data/2023/day11/testinput01.txt\").readLines()\n"
   ],
   "metadata": {
    "collapsed": false,
    "ExecuteTime": {
     "end_time": "2023-12-11T22:50:52.904905746Z",
     "start_time": "2023-12-11T22:50:52.801595188Z"
    }
   }
  },
  {
   "cell_type": "code",
   "execution_count": 3,
   "outputs": [
    {
     "data": {
      "text/plain": "[4, 47, 51, 54, 62, 69, 77, 80, 86, 100, 112]"
     },
     "execution_count": 3,
     "metadata": {},
     "output_type": "execute_result"
    }
   ],
   "source": [
    "import com.convexbase.cy2023.day11.GMap\n",
    "import com.convexbase.cy2023.day11.Galaxy\n",
    "\n",
    "val theMap = GMap.getGMap(input)\n",
    "theMap.getEmptyCols()\n"
   ],
   "metadata": {
    "collapsed": false,
    "ExecuteTime": {
     "end_time": "2023-12-11T22:50:52.989916761Z",
     "start_time": "2023-12-11T22:50:52.907271730Z"
    }
   }
  },
  {
   "cell_type": "code",
   "execution_count": 4,
   "outputs": [],
   "source": [
    "theMap.expand(1_000_000 - 1)"
   ],
   "metadata": {
    "collapsed": false,
    "ExecuteTime": {
     "end_time": "2023-12-11T22:50:53.068022153Z",
     "start_time": "2023-12-11T22:50:52.987741334Z"
    }
   }
  },
  {
   "cell_type": "code",
   "execution_count": 5,
   "outputs": [
    {
     "data": {
      "text/plain": "625243292686"
     },
     "execution_count": 5,
     "metadata": {},
     "output_type": "execute_result"
    }
   ],
   "source": [
    "theMap.allDistances.sum()"
   ],
   "metadata": {
    "collapsed": false,
    "ExecuteTime": {
     "end_time": "2023-12-11T22:50:53.215368010Z",
     "start_time": "2023-12-11T22:50:53.069779630Z"
    }
   }
  },
  {
   "cell_type": "code",
   "execution_count": 6,
   "outputs": [
    {
     "data": {
      "text/plain": "11000129"
     },
     "execution_count": 6,
     "metadata": {},
     "output_type": "execute_result"
    }
   ],
   "source": [
    "theMap.width"
   ],
   "metadata": {
    "collapsed": false,
    "ExecuteTime": {
     "end_time": "2023-12-11T22:50:53.268085839Z",
     "start_time": "2023-12-11T22:50:53.215554636Z"
    }
   }
  },
  {
   "cell_type": "code",
   "execution_count": 7,
   "outputs": [],
   "source": [],
   "metadata": {
    "collapsed": false,
    "ExecuteTime": {
     "end_time": "2023-12-11T22:50:53.271641689Z",
     "start_time": "2023-12-11T22:50:53.259246391Z"
    }
   }
  }
 ],
 "metadata": {
  "kernelspec": {
   "display_name": "Kotlin",
   "language": "kotlin",
   "name": "kotlin"
  },
  "language_info": {
   "name": "kotlin",
   "version": "1.9.0",
   "mimetype": "text/x-kotlin",
   "file_extension": ".kt",
   "pygments_lexer": "kotlin",
   "codemirror_mode": "text/x-kotlin",
   "nbconvert_exporter": ""
  },
  "ktnbPluginMetadata": {
   "projectDependencies": [
    "cold-aoc-kotlin.main",
    "cold-aoc-kotlin.test"
   ]
  }
 },
 "nbformat": 4,
 "nbformat_minor": 0
}
