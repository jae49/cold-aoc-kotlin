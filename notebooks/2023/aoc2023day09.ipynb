{
 "cells": [
  {
   "cell_type": "code",
   "metadata": {
    "collapsed": true,
    "ExecuteTime": {
     "end_time": "2024-08-26T19:28:06.781220442Z",
     "start_time": "2024-08-26T19:27:46.475646311Z"
    }
   },
   "source": [
    "import java.io.File\n",
    "%use kandy, dataframe"
   ],
   "outputs": [],
   "execution_count": 1
  },
  {
   "cell_type": "code",
   "source": [
    "val input = File(\"../../src/main/resources/data/2023/day09/input.txt\").readLines()\n",
    "val testInput = File(\"../../src/test/resources/data/2023/day09/testinput01.txt\").readLines()"
   ],
   "metadata": {
    "collapsed": false,
    "ExecuteTime": {
     "end_time": "2024-08-26T19:28:06.874199906Z",
     "start_time": "2024-08-26T19:28:06.801796367Z"
    }
   },
   "outputs": [],
   "execution_count": 2
  },
  {
   "cell_type": "code",
   "source": [
    "testInput"
   ],
   "metadata": {
    "collapsed": false,
    "ExecuteTime": {
     "end_time": "2024-08-26T19:28:07.088957589Z",
     "start_time": "2024-08-26T19:28:07.022988701Z"
    }
   },
   "outputs": [
    {
     "data": {
      "text/plain": [
       "[0 3 6 9 12 15, 1 3 6 10 15 21, 10 13 16 21 30 45]"
      ]
     },
     "execution_count": 3,
     "metadata": {},
     "output_type": "execute_result"
    }
   ],
   "execution_count": 3
  },
  {
   "cell_type": "code",
   "source": [
    "val readingLines = testInput.map { line -> line.split(\" \").map { it.toLong()}}\n",
    "readingLines"
   ],
   "metadata": {
    "collapsed": false,
    "ExecuteTime": {
     "end_time": "2024-08-26T19:28:07.417213819Z",
     "start_time": "2024-08-26T19:28:07.173498107Z"
    }
   },
   "outputs": [
    {
     "data": {
      "text/plain": [
       "[[0, 3, 6, 9, 12, 15], [1, 3, 6, 10, 15, 21], [10, 13, 16, 21, 30, 45]]"
      ]
     },
     "execution_count": 4,
     "metadata": {},
     "output_type": "execute_result"
    }
   ],
   "execution_count": 4
  },
  {
   "cell_type": "code",
   "source": [
    "fun subtract(readings: List<Long>):List<Long> {\n",
    "    var a = readings[0]\n",
    "    return readings.drop(1).map {b -> \n",
    "        val result = b - a\n",
    "        a = b\n",
    "        result\n",
    "    }\n",
    "}\n",
    "\n",
    "fun lineIsZeros(readings:List<Long>):Boolean {\n",
    "    for (reading in readings) if (reading != 0L) return false\n",
    "    return true\n",
    "}"
   ],
   "metadata": {
    "collapsed": false,
    "ExecuteTime": {
     "end_time": "2024-08-26T19:28:07.648761252Z",
     "start_time": "2024-08-26T19:28:07.493251241Z"
    }
   },
   "outputs": [],
   "execution_count": 5
  },
  {
   "cell_type": "code",
   "source": [
    "subtract(readingLines[0])"
   ],
   "metadata": {
    "collapsed": false,
    "ExecuteTime": {
     "end_time": "2024-08-26T19:28:07.702607811Z",
     "start_time": "2024-08-26T19:28:07.657124526Z"
    }
   },
   "outputs": [
    {
     "data": {
      "text/plain": [
       "[3, 3, 3, 3, 3]"
      ]
     },
     "execution_count": 6,
     "metadata": {},
     "output_type": "execute_result"
    }
   ],
   "execution_count": 6
  },
  {
   "cell_type": "code",
   "source": [
    "fun subtractAndExpand(readings: List<Long>, stepLimit: Long = 1000):List<List<Long>> {\n",
    "    val memory = mutableListOf<List<Long>>()\n",
    "    memory.add(readings)\n",
    "    while (!lineIsZeros(memory.last()) && memory.size < stepLimit) {\n",
    "        memory.add(subtract(memory.last()))\n",
    "    }\n",
    "    if (memory.size >= stepLimit) throw IllegalStateException(\"limit reached\")\n",
    "    return memory\n",
    "}\n",
    "\n",
    "fun calculateMissingNumbers(numlists: List<List<Long>>):List<Long> {\n",
    "    \n",
    "    val calcNums = mutableListOf<Long>()\n",
    "    calcNums.add(0)\n",
    "    for (index in 1 ..< numlists.size) {\n",
    "        calcNums.add(numlists[index].last()+calcNums.last())\n",
    "    }\n",
    "    return calcNums\n",
    "}\n",
    "\n",
    "fun getNextPredictedNumbers(readingsList: List<List<Long>>):List<Long> {\n",
    "    val lastList = readingsList.map { it ->calculateMissingNumbers(subtractAndExpand(it).reversed()).last() }\n",
    "    return lastList\n",
    "}\n",
    "\n",
    "fun getPart1Answer(readingsLines: List<String>):Long {\n",
    "    val readingsList = readingsLines.map { line -> line.split(\" \").map { it.toLong()}}\n",
    "    return getNextPredictedNumbers(readingsList).sum()\n",
    "}\n"
   ],
   "metadata": {
    "collapsed": false,
    "ExecuteTime": {
     "end_time": "2024-08-26T19:28:08.126078213Z",
     "start_time": "2024-08-26T19:28:07.771783773Z"
    }
   },
   "outputs": [],
   "execution_count": 7
  },
  {
   "cell_type": "code",
   "source": [
    "val numlists = subtractAndExpand(readingLines[2]).reversed()\n",
    "numlists"
   ],
   "metadata": {
    "collapsed": false,
    "ExecuteTime": {
     "end_time": "2024-08-26T19:28:08.181115252Z",
     "start_time": "2024-08-26T19:28:08.135075828Z"
    }
   },
   "outputs": [
    {
     "data": {
      "text/plain": [
       "[[0, 0], [2, 2, 2], [0, 2, 4, 6], [3, 3, 5, 9, 15], [10, 13, 16, 21, 30, 45]]"
      ]
     },
     "execution_count": 8,
     "metadata": {},
     "output_type": "execute_result"
    }
   ],
   "execution_count": 8
  },
  {
   "cell_type": "code",
   "source": [
    "val numlists0 = subtractAndExpand(readingLines[0]).reversed()\n",
    "numlists0"
   ],
   "metadata": {
    "collapsed": false,
    "ExecuteTime": {
     "end_time": "2024-08-26T19:28:08.301329625Z",
     "start_time": "2024-08-26T19:28:08.251797530Z"
    }
   },
   "outputs": [
    {
     "data": {
      "text/plain": [
       "[[0, 0, 0, 0], [3, 3, 3, 3, 3], [0, 3, 6, 9, 12, 15]]"
      ]
     },
     "execution_count": 9,
     "metadata": {},
     "output_type": "execute_result"
    }
   ],
   "execution_count": 9
  },
  {
   "cell_type": "code",
   "source": [
    "calculateMissingNumbers(numlists)"
   ],
   "metadata": {
    "collapsed": false,
    "ExecuteTime": {
     "end_time": "2024-08-26T19:28:08.344968657Z",
     "start_time": "2024-08-26T19:28:08.310592465Z"
    }
   },
   "outputs": [
    {
     "data": {
      "text/plain": [
       "[0, 2, 8, 23, 68]"
      ]
     },
     "execution_count": 10,
     "metadata": {},
     "output_type": "execute_result"
    }
   ],
   "execution_count": 10
  },
  {
   "cell_type": "code",
   "source": [
    "val numlists1 = subtractAndExpand(readingLines[1]).reversed()\n",
    "numlists1"
   ],
   "metadata": {
    "collapsed": false,
    "ExecuteTime": {
     "end_time": "2024-08-26T19:28:08.399043760Z",
     "start_time": "2024-08-26T19:28:08.352707601Z"
    }
   },
   "outputs": [
    {
     "data": {
      "text/plain": [
       "[[0, 0, 0], [1, 1, 1, 1], [2, 3, 4, 5, 6], [1, 3, 6, 10, 15, 21]]"
      ]
     },
     "execution_count": 11,
     "metadata": {},
     "output_type": "execute_result"
    }
   ],
   "execution_count": 11
  },
  {
   "cell_type": "code",
   "source": [
    "getNextPredictedNumbers(readingLines)"
   ],
   "metadata": {
    "collapsed": false,
    "ExecuteTime": {
     "end_time": "2024-08-26T19:28:08.440038437Z",
     "start_time": "2024-08-26T19:28:08.407171730Z"
    }
   },
   "outputs": [
    {
     "data": {
      "text/plain": [
       "[18, 28, 68]"
      ]
     },
     "execution_count": 12,
     "metadata": {},
     "output_type": "execute_result"
    }
   ],
   "execution_count": 12
  },
  {
   "cell_type": "code",
   "source": [
    "getPart1Answer(testInput)"
   ],
   "metadata": {
    "collapsed": false,
    "ExecuteTime": {
     "end_time": "2024-08-26T19:28:08.482624921Z",
     "start_time": "2024-08-26T19:28:08.448209777Z"
    }
   },
   "outputs": [
    {
     "data": {
      "text/plain": [
       "114"
      ]
     },
     "execution_count": 13,
     "metadata": {},
     "output_type": "execute_result"
    }
   ],
   "execution_count": 13
  },
  {
   "cell_type": "code",
   "source": [
    "getPart1Answer(input)"
   ],
   "metadata": {
    "collapsed": false,
    "ExecuteTime": {
     "end_time": "2024-08-26T19:28:08.527183990Z",
     "start_time": "2024-08-26T19:28:08.490861944Z"
    }
   },
   "outputs": [
    {
     "data": {
      "text/plain": [
       "1834108701"
      ]
     },
     "execution_count": 14,
     "metadata": {},
     "output_type": "execute_result"
    }
   ],
   "execution_count": 14
  },
  {
   "cell_type": "code",
   "source": [
    "com.convexbase.cy2023.day09.SolveTools.getPart1Answer(input)"
   ],
   "metadata": {
    "collapsed": false,
    "ExecuteTime": {
     "end_time": "2024-08-26T19:28:08.578307311Z",
     "start_time": "2024-08-26T19:28:08.536319978Z"
    }
   },
   "outputs": [
    {
     "data": {
      "text/plain": [
       "1834108701"
      ]
     },
     "execution_count": 15,
     "metadata": {},
     "output_type": "execute_result"
    }
   ],
   "execution_count": 15
  },
  {
   "cell_type": "code",
   "source": [
    "fun calculatePreviousNumbers(numlist: List<List<Long>>):List<Long> {\n",
    "    val calcNums = mutableListOf<Long>()\n",
    "    calcNums.add(0)\n",
    "    for (index in 1 ..< numlist.size) {\n",
    "        calcNums.add(numlist[index].first() - calcNums.last())\n",
    "    }\n",
    "    return calcNums\n",
    "}\n",
    "\n",
    "fun getPreviousPredictedNumbers(readingsList: List<List<Long>>):List<Long> {\n",
    "    val firstList = readingsList.map { it -> calculatePreviousNumbers(subtractAndExpand(it).reversed()).last()}\n",
    "    return firstList\n",
    "}\n",
    "\n"
   ],
   "metadata": {
    "collapsed": false,
    "ExecuteTime": {
     "end_time": "2024-08-26T19:28:08.693966586Z",
     "start_time": "2024-08-26T19:28:08.587290356Z"
    }
   },
   "outputs": [],
   "execution_count": 16
  },
  {
   "cell_type": "code",
   "source": [
    "fun getPart2Answer(readingsLines: List<String>):Long {\n",
    "    val readingsList = readingsLines.map { line -> line.split(\" \").map { it.toLong()}}\n",
    "    return getPreviousPredictedNumbers(readingsList).sum()\n",
    "}\n"
   ],
   "metadata": {
    "collapsed": false,
    "ExecuteTime": {
     "end_time": "2024-08-26T19:28:08.799360234Z",
     "start_time": "2024-08-26T19:28:08.698797499Z"
    }
   },
   "outputs": [],
   "execution_count": 17
  },
  {
   "cell_type": "code",
   "source": [
    "numlists"
   ],
   "metadata": {
    "collapsed": false,
    "ExecuteTime": {
     "end_time": "2024-08-26T19:28:08.840865479Z",
     "start_time": "2024-08-26T19:28:08.806786231Z"
    }
   },
   "outputs": [
    {
     "data": {
      "text/plain": [
       "[[0, 0], [2, 2, 2], [0, 2, 4, 6], [3, 3, 5, 9, 15], [10, 13, 16, 21, 30, 45]]"
      ]
     },
     "execution_count": 18,
     "metadata": {},
     "output_type": "execute_result"
    }
   ],
   "execution_count": 18
  },
  {
   "cell_type": "code",
   "source": [
    "calculatePreviousNumbers(numlists)"
   ],
   "metadata": {
    "collapsed": false,
    "ExecuteTime": {
     "end_time": "2024-08-26T19:28:08.888967559Z",
     "start_time": "2024-08-26T19:28:08.854154378Z"
    }
   },
   "outputs": [
    {
     "data": {
      "text/plain": [
       "[0, 2, -2, 5, 5]"
      ]
     },
     "execution_count": 19,
     "metadata": {},
     "output_type": "execute_result"
    }
   ],
   "execution_count": 19
  },
  {
   "cell_type": "code",
   "source": [
    "readingLines"
   ],
   "metadata": {
    "collapsed": false,
    "ExecuteTime": {
     "end_time": "2024-08-26T19:28:08.928089583Z",
     "start_time": "2024-08-26T19:28:08.898060145Z"
    }
   },
   "outputs": [
    {
     "data": {
      "text/plain": [
       "[[0, 3, 6, 9, 12, 15], [1, 3, 6, 10, 15, 21], [10, 13, 16, 21, 30, 45]]"
      ]
     },
     "execution_count": 20,
     "metadata": {},
     "output_type": "execute_result"
    }
   ],
   "execution_count": 20
  },
  {
   "cell_type": "code",
   "source": [
    "numlists0"
   ],
   "metadata": {
    "collapsed": false,
    "ExecuteTime": {
     "end_time": "2024-08-26T19:28:08.968374248Z",
     "start_time": "2024-08-26T19:28:08.937823771Z"
    }
   },
   "outputs": [
    {
     "data": {
      "text/plain": [
       "[[0, 0, 0, 0], [3, 3, 3, 3, 3], [0, 3, 6, 9, 12, 15]]"
      ]
     },
     "execution_count": 21,
     "metadata": {},
     "output_type": "execute_result"
    }
   ],
   "execution_count": 21
  },
  {
   "cell_type": "code",
   "source": [
    "calculatePreviousNumbers(numlists0)"
   ],
   "metadata": {
    "collapsed": false,
    "ExecuteTime": {
     "end_time": "2024-08-26T19:28:09.010032176Z",
     "start_time": "2024-08-26T19:28:08.977422194Z"
    }
   },
   "outputs": [
    {
     "data": {
      "text/plain": [
       "[0, 3, -3]"
      ]
     },
     "execution_count": 22,
     "metadata": {},
     "output_type": "execute_result"
    }
   ],
   "execution_count": 22
  },
  {
   "cell_type": "code",
   "source": [
    "numlists1"
   ],
   "metadata": {
    "collapsed": false,
    "ExecuteTime": {
     "end_time": "2024-08-26T19:28:09.045365766Z",
     "start_time": "2024-08-26T19:28:09.018151656Z"
    }
   },
   "outputs": [
    {
     "data": {
      "text/plain": [
       "[[0, 0, 0], [1, 1, 1, 1], [2, 3, 4, 5, 6], [1, 3, 6, 10, 15, 21]]"
      ]
     },
     "execution_count": 23,
     "metadata": {},
     "output_type": "execute_result"
    }
   ],
   "execution_count": 23
  },
  {
   "cell_type": "code",
   "source": [
    "calculatePreviousNumbers(numlists1)"
   ],
   "metadata": {
    "collapsed": false,
    "ExecuteTime": {
     "end_time": "2024-08-26T19:28:09.082786431Z",
     "start_time": "2024-08-26T19:28:09.051950949Z"
    }
   },
   "outputs": [
    {
     "data": {
      "text/plain": [
       "[0, 1, 1, 0]"
      ]
     },
     "execution_count": 24,
     "metadata": {},
     "output_type": "execute_result"
    }
   ],
   "execution_count": 24
  },
  {
   "cell_type": "code",
   "source": [
    "getPreviousPredictedNumbers(readingLines)"
   ],
   "metadata": {
    "collapsed": false,
    "ExecuteTime": {
     "end_time": "2024-08-26T19:28:09.118993506Z",
     "start_time": "2024-08-26T19:28:09.089302783Z"
    }
   },
   "outputs": [
    {
     "data": {
      "text/plain": [
       "[-3, 0, 5]"
      ]
     },
     "execution_count": 25,
     "metadata": {},
     "output_type": "execute_result"
    }
   ],
   "execution_count": 25
  },
  {
   "cell_type": "code",
   "source": [
    "getPart2Answer(testInput)"
   ],
   "metadata": {
    "collapsed": false,
    "ExecuteTime": {
     "end_time": "2024-08-26T19:28:09.153839526Z",
     "start_time": "2024-08-26T19:28:09.125458247Z"
    }
   },
   "outputs": [
    {
     "data": {
      "text/plain": [
       "2"
      ]
     },
     "execution_count": 26,
     "metadata": {},
     "output_type": "execute_result"
    }
   ],
   "execution_count": 26
  },
  {
   "cell_type": "code",
   "source": [
    "getPart2Answer(input)"
   ],
   "metadata": {
    "collapsed": false,
    "ExecuteTime": {
     "end_time": "2024-08-26T19:28:09.191220800Z",
     "start_time": "2024-08-26T19:28:09.160415179Z"
    }
   },
   "outputs": [
    {
     "data": {
      "text/plain": [
       "993"
      ]
     },
     "execution_count": 27,
     "metadata": {},
     "output_type": "execute_result"
    }
   ],
   "execution_count": 27
  },
  {
   "cell_type": "code",
   "source": [
    "com.convexbase.cy2023.day09.SolveTools.getPart2Answer(input)"
   ],
   "metadata": {
    "collapsed": false,
    "ExecuteTime": {
     "end_time": "2024-08-26T19:28:09.233792345Z",
     "start_time": "2024-08-26T19:28:09.199612785Z"
    }
   },
   "outputs": [
    {
     "data": {
      "text/plain": [
       "993"
      ]
     },
     "execution_count": 28,
     "metadata": {},
     "output_type": "execute_result"
    }
   ],
   "execution_count": 28
  },
  {
   "cell_type": "code",
   "source": [],
   "metadata": {
    "collapsed": false,
    "ExecuteTime": {
     "end_time": "2024-08-26T19:28:09.243581754Z",
     "start_time": "2024-08-26T19:28:09.241834134Z"
    }
   },
   "outputs": [],
   "execution_count": null
  }
 ],
 "metadata": {
  "kernelspec": {
   "display_name": "Kotlin",
   "language": "kotlin",
   "name": "kotlin"
  },
  "language_info": {
   "name": "kotlin",
   "version": "1.9.0",
   "mimetype": "text/x-kotlin",
   "file_extension": ".kt",
   "pygments_lexer": "kotlin",
   "codemirror_mode": "text/x-kotlin",
   "nbconvert_exporter": ""
  },
  "ktnbPluginMetadata": {
   "projectDependencies": [
    "cold-aoc-kotlin.main",
    "cold-aoc-kotlin.test"
   ]
  }
 },
 "nbformat": 4,
 "nbformat_minor": 0
}
