{
 "cells": [
  {
   "cell_type": "code",
   "execution_count": 1,
   "metadata": {
    "collapsed": true,
    "ExecuteTime": {
     "end_time": "2023-12-09T19:31:00.234089804Z",
     "start_time": "2023-12-09T19:30:54.673732150Z"
    }
   },
   "outputs": [],
   "source": [
    "import java.io.File\n",
    "%use kandy, dataframe"
   ]
  },
  {
   "cell_type": "code",
   "execution_count": 2,
   "outputs": [],
   "source": [
    "val input = File(\"../../src/main/resources/data/2023/day09/input.txt\").readLines()\n",
    "val testInput = File(\"../../src/test/resources/data/2023/day09/testinput01.txt\").readLines()"
   ],
   "metadata": {
    "collapsed": false,
    "ExecuteTime": {
     "end_time": "2023-12-09T19:31:00.339452652Z",
     "start_time": "2023-12-09T19:31:00.223729946Z"
    }
   }
  },
  {
   "cell_type": "code",
   "execution_count": 3,
   "outputs": [
    {
     "data": {
      "text/plain": "[0 3 6 9 12 15, 1 3 6 10 15 21, 10 13 16 21 30 45]"
     },
     "execution_count": 3,
     "metadata": {},
     "output_type": "execute_result"
    }
   ],
   "source": [
    "testInput"
   ],
   "metadata": {
    "collapsed": false,
    "ExecuteTime": {
     "end_time": "2023-12-09T19:31:00.451109157Z",
     "start_time": "2023-12-09T19:31:00.318797896Z"
    }
   }
  },
  {
   "cell_type": "code",
   "execution_count": 4,
   "outputs": [
    {
     "data": {
      "text/plain": "[[0, 3, 6, 9, 12, 15], [1, 3, 6, 10, 15, 21], [10, 13, 16, 21, 30, 45]]"
     },
     "execution_count": 4,
     "metadata": {},
     "output_type": "execute_result"
    }
   ],
   "source": [
    "val readingLines = testInput.map { line -> line.split(\" \").map { it.toLong()}}\n",
    "readingLines"
   ],
   "metadata": {
    "collapsed": false,
    "ExecuteTime": {
     "end_time": "2023-12-09T19:31:00.652173041Z",
     "start_time": "2023-12-09T19:31:00.387757397Z"
    }
   }
  },
  {
   "cell_type": "code",
   "execution_count": 5,
   "outputs": [],
   "source": [
    "fun subtract(readings: List<Long>):List<Long> {\n",
    "    var a = readings[0]\n",
    "    return readings.drop(1).map {b -> \n",
    "        val result = b - a\n",
    "        a = b\n",
    "        result\n",
    "    }\n",
    "}\n",
    "\n",
    "fun lineIsZeros(readings:List<Long>):Boolean {\n",
    "    for (reading in readings) if (reading != 0L) return false\n",
    "    return true\n",
    "}"
   ],
   "metadata": {
    "collapsed": false,
    "ExecuteTime": {
     "end_time": "2023-12-09T19:31:00.886178693Z",
     "start_time": "2023-12-09T19:31:00.651989345Z"
    }
   }
  },
  {
   "cell_type": "code",
   "execution_count": 6,
   "outputs": [
    {
     "data": {
      "text/plain": "[3, 3, 3, 3, 3]"
     },
     "execution_count": 6,
     "metadata": {},
     "output_type": "execute_result"
    }
   ],
   "source": [
    "subtract(readingLines[0])"
   ],
   "metadata": {
    "collapsed": false,
    "ExecuteTime": {
     "end_time": "2023-12-09T19:31:00.929660062Z",
     "start_time": "2023-12-09T19:31:00.839912738Z"
    }
   }
  },
  {
   "cell_type": "code",
   "execution_count": 7,
   "outputs": [],
   "source": [
    "fun subtractAndExpand(readings: List<Long>, stepLimit: Long = 1000):List<List<Long>> {\n",
    "    val memory = mutableListOf<List<Long>>()\n",
    "    memory.add(readings)\n",
    "    while (!lineIsZeros(memory.last()) && memory.size < stepLimit) {\n",
    "        memory.add(subtract(memory.last()))\n",
    "    }\n",
    "    if (memory.size >= stepLimit) throw IllegalStateException(\"limit reached\")\n",
    "    return memory\n",
    "}\n",
    "\n",
    "fun calculateMissingNumbers(numlists: List<List<Long>>):List<Long> {\n",
    "    \n",
    "    val calcNums = mutableListOf<Long>()\n",
    "    calcNums.add(0)\n",
    "    for (index in 1 ..< numlists.size) {\n",
    "        calcNums.add(numlists[index].last()+calcNums.last())\n",
    "    }\n",
    "    return calcNums\n",
    "}\n",
    "\n",
    "fun getNextPredictedNumbers(readingsList: List<List<Long>>):List<Long> {\n",
    "    val lastList = readingsList.map { it ->calculateMissingNumbers(subtractAndExpand(it).reversed()).last() }\n",
    "    return lastList\n",
    "}\n",
    "\n",
    "fun getPart1Answer(readingsLines: List<String>):Long {\n",
    "    val readingsList = readingsLines.map { line -> line.split(\" \").map { it.toLong()}}\n",
    "    return getNextPredictedNumbers(readingsList).sum()\n",
    "}\n"
   ],
   "metadata": {
    "collapsed": false,
    "ExecuteTime": {
     "end_time": "2023-12-09T19:31:01.385246106Z",
     "start_time": "2023-12-09T19:31:00.888575025Z"
    }
   }
  },
  {
   "cell_type": "code",
   "execution_count": 8,
   "outputs": [
    {
     "data": {
      "text/plain": "[[0, 0], [2, 2, 2], [0, 2, 4, 6], [3, 3, 5, 9, 15], [10, 13, 16, 21, 30, 45]]"
     },
     "execution_count": 8,
     "metadata": {},
     "output_type": "execute_result"
    }
   ],
   "source": [
    "val numlists = subtractAndExpand(readingLines[2]).reversed()\n",
    "numlists"
   ],
   "metadata": {
    "collapsed": false,
    "ExecuteTime": {
     "end_time": "2023-12-09T19:31:01.422293980Z",
     "start_time": "2023-12-09T19:31:01.302339218Z"
    }
   }
  },
  {
   "cell_type": "code",
   "execution_count": 9,
   "outputs": [
    {
     "data": {
      "text/plain": "[[0, 0, 0, 0], [3, 3, 3, 3, 3], [0, 3, 6, 9, 12, 15]]"
     },
     "execution_count": 9,
     "metadata": {},
     "output_type": "execute_result"
    }
   ],
   "source": [
    "val numlists0 = subtractAndExpand(readingLines[0]).reversed()\n",
    "numlists0"
   ],
   "metadata": {
    "collapsed": false,
    "ExecuteTime": {
     "end_time": "2023-12-09T19:31:01.425610446Z",
     "start_time": "2023-12-09T19:31:01.352579715Z"
    }
   }
  },
  {
   "cell_type": "code",
   "execution_count": 10,
   "outputs": [
    {
     "data": {
      "text/plain": "[0, 2, 8, 23, 68]"
     },
     "execution_count": 10,
     "metadata": {},
     "output_type": "execute_result"
    }
   ],
   "source": [
    "calculateMissingNumbers(numlists)"
   ],
   "metadata": {
    "collapsed": false,
    "ExecuteTime": {
     "end_time": "2023-12-09T19:31:01.499491261Z",
     "start_time": "2023-12-09T19:31:01.404738954Z"
    }
   }
  },
  {
   "cell_type": "code",
   "execution_count": 11,
   "outputs": [
    {
     "data": {
      "text/plain": "[[0, 0, 0], [1, 1, 1, 1], [2, 3, 4, 5, 6], [1, 3, 6, 10, 15, 21]]"
     },
     "execution_count": 11,
     "metadata": {},
     "output_type": "execute_result"
    }
   ],
   "source": [
    "val numlists1 = subtractAndExpand(readingLines[1]).reversed()\n",
    "numlists1"
   ],
   "metadata": {
    "collapsed": false,
    "ExecuteTime": {
     "end_time": "2023-12-09T19:31:01.536308200Z",
     "start_time": "2023-12-09T19:31:01.444990807Z"
    }
   }
  },
  {
   "cell_type": "code",
   "execution_count": 12,
   "outputs": [
    {
     "data": {
      "text/plain": "[18, 28, 68]"
     },
     "execution_count": 12,
     "metadata": {},
     "output_type": "execute_result"
    }
   ],
   "source": [
    "getNextPredictedNumbers(readingLines)"
   ],
   "metadata": {
    "collapsed": false,
    "ExecuteTime": {
     "end_time": "2023-12-09T19:31:01.577139681Z",
     "start_time": "2023-12-09T19:31:01.503265646Z"
    }
   }
  },
  {
   "cell_type": "code",
   "execution_count": 13,
   "outputs": [
    {
     "data": {
      "text/plain": "114"
     },
     "execution_count": 13,
     "metadata": {},
     "output_type": "execute_result"
    }
   ],
   "source": [
    "getPart1Answer(testInput)"
   ],
   "metadata": {
    "collapsed": false,
    "ExecuteTime": {
     "end_time": "2023-12-09T19:31:01.643030421Z",
     "start_time": "2023-12-09T19:31:01.554316147Z"
    }
   }
  },
  {
   "cell_type": "code",
   "execution_count": 14,
   "outputs": [
    {
     "data": {
      "text/plain": "1834108701"
     },
     "execution_count": 14,
     "metadata": {},
     "output_type": "execute_result"
    }
   ],
   "source": [
    "getPart1Answer(input)"
   ],
   "metadata": {
    "collapsed": false,
    "ExecuteTime": {
     "end_time": "2023-12-09T19:31:01.697765500Z",
     "start_time": "2023-12-09T19:31:01.607765562Z"
    }
   }
  },
  {
   "cell_type": "code",
   "execution_count": 31,
   "outputs": [
    {
     "data": {
      "text/plain": "1834108701"
     },
     "execution_count": 31,
     "metadata": {},
     "output_type": "execute_result"
    }
   ],
   "source": [
    "com.convexbase.cy2023.day09.SolveTools.getPart1Answer(input)"
   ],
   "metadata": {
    "collapsed": false,
    "ExecuteTime": {
     "end_time": "2023-12-09T19:31:42.282664936Z",
     "start_time": "2023-12-09T19:31:42.218203948Z"
    }
   }
  },
  {
   "cell_type": "code",
   "execution_count": 16,
   "outputs": [],
   "source": [
    "fun calculatePreviousNumbers(numlist: List<List<Long>>):List<Long> {\n",
    "    val calcNums = mutableListOf<Long>()\n",
    "    calcNums.add(0)\n",
    "    for (index in 1 ..< numlist.size) {\n",
    "        calcNums.add(numlist[index].first() - calcNums.last())\n",
    "    }\n",
    "    return calcNums\n",
    "}\n",
    "\n",
    "fun getPreviousPredictedNumbers(readingsList: List<List<Long>>):List<Long> {\n",
    "    val firstList = readingsList.map { it -> calculatePreviousNumbers(subtractAndExpand(it).reversed()).last()}\n",
    "    return firstList\n",
    "}\n",
    "\n"
   ],
   "metadata": {
    "collapsed": false,
    "ExecuteTime": {
     "end_time": "2023-12-09T19:31:01.869186055Z",
     "start_time": "2023-12-09T19:31:01.718775239Z"
    }
   }
  },
  {
   "cell_type": "code",
   "execution_count": 17,
   "outputs": [],
   "source": [
    "fun getPart2Answer(readingsLines: List<String>):Long {\n",
    "    val readingsList = readingsLines.map { line -> line.split(\" \").map { it.toLong()}}\n",
    "    return getPreviousPredictedNumbers(readingsList).sum()\n",
    "}\n"
   ],
   "metadata": {
    "collapsed": false,
    "ExecuteTime": {
     "end_time": "2023-12-09T19:31:01.928746280Z",
     "start_time": "2023-12-09T19:31:01.842227992Z"
    }
   }
  },
  {
   "cell_type": "code",
   "execution_count": 18,
   "outputs": [
    {
     "data": {
      "text/plain": "[[0, 0], [2, 2, 2], [0, 2, 4, 6], [3, 3, 5, 9, 15], [10, 13, 16, 21, 30, 45]]"
     },
     "execution_count": 18,
     "metadata": {},
     "output_type": "execute_result"
    }
   ],
   "source": [
    "numlists"
   ],
   "metadata": {
    "collapsed": false,
    "ExecuteTime": {
     "end_time": "2023-12-09T19:31:02.051318011Z",
     "start_time": "2023-12-09T19:31:01.919798185Z"
    }
   }
  },
  {
   "cell_type": "code",
   "execution_count": 19,
   "outputs": [
    {
     "data": {
      "text/plain": "[0, 2, -2, 5, 5]"
     },
     "execution_count": 19,
     "metadata": {},
     "output_type": "execute_result"
    }
   ],
   "source": [
    "calculatePreviousNumbers(numlists)"
   ],
   "metadata": {
    "collapsed": false,
    "ExecuteTime": {
     "end_time": "2023-12-09T19:31:02.126418371Z",
     "start_time": "2023-12-09T19:31:02.019353576Z"
    }
   }
  },
  {
   "cell_type": "code",
   "execution_count": 20,
   "outputs": [
    {
     "data": {
      "text/plain": "[[0, 3, 6, 9, 12, 15], [1, 3, 6, 10, 15, 21], [10, 13, 16, 21, 30, 45]]"
     },
     "execution_count": 20,
     "metadata": {},
     "output_type": "execute_result"
    }
   ],
   "source": [
    "readingLines"
   ],
   "metadata": {
    "collapsed": false,
    "ExecuteTime": {
     "end_time": "2023-12-09T19:31:02.163661752Z",
     "start_time": "2023-12-09T19:31:02.078085597Z"
    }
   }
  },
  {
   "cell_type": "code",
   "execution_count": 21,
   "outputs": [
    {
     "data": {
      "text/plain": "[[0, 0, 0, 0], [3, 3, 3, 3, 3], [0, 3, 6, 9, 12, 15]]"
     },
     "execution_count": 21,
     "metadata": {},
     "output_type": "execute_result"
    }
   ],
   "source": [
    "numlists0"
   ],
   "metadata": {
    "collapsed": false,
    "ExecuteTime": {
     "end_time": "2023-12-09T19:31:02.180870226Z",
     "start_time": "2023-12-09T19:31:02.109934454Z"
    }
   }
  },
  {
   "cell_type": "code",
   "execution_count": 22,
   "outputs": [
    {
     "data": {
      "text/plain": "[0, 3, -3]"
     },
     "execution_count": 22,
     "metadata": {},
     "output_type": "execute_result"
    }
   ],
   "source": [
    "calculatePreviousNumbers(numlists0)"
   ],
   "metadata": {
    "collapsed": false,
    "ExecuteTime": {
     "end_time": "2023-12-09T19:31:02.262774383Z",
     "start_time": "2023-12-09T19:31:02.148532869Z"
    }
   }
  },
  {
   "cell_type": "code",
   "execution_count": 23,
   "outputs": [
    {
     "data": {
      "text/plain": "[[0, 0, 0], [1, 1, 1, 1], [2, 3, 4, 5, 6], [1, 3, 6, 10, 15, 21]]"
     },
     "execution_count": 23,
     "metadata": {},
     "output_type": "execute_result"
    }
   ],
   "source": [
    "numlists1"
   ],
   "metadata": {
    "collapsed": false,
    "ExecuteTime": {
     "end_time": "2023-12-09T19:31:02.285264543Z",
     "start_time": "2023-12-09T19:31:02.188200382Z"
    }
   }
  },
  {
   "cell_type": "code",
   "execution_count": 24,
   "outputs": [
    {
     "data": {
      "text/plain": "[0, 1, 1, 0]"
     },
     "execution_count": 24,
     "metadata": {},
     "output_type": "execute_result"
    }
   ],
   "source": [
    "calculatePreviousNumbers(numlists1)"
   ],
   "metadata": {
    "collapsed": false,
    "ExecuteTime": {
     "end_time": "2023-12-09T19:31:02.324792389Z",
     "start_time": "2023-12-09T19:31:02.221053439Z"
    }
   }
  },
  {
   "cell_type": "code",
   "execution_count": 25,
   "outputs": [
    {
     "data": {
      "text/plain": "[-3, 0, 5]"
     },
     "execution_count": 25,
     "metadata": {},
     "output_type": "execute_result"
    }
   ],
   "source": [
    "getPreviousPredictedNumbers(readingLines)"
   ],
   "metadata": {
    "collapsed": false,
    "ExecuteTime": {
     "end_time": "2023-12-09T19:31:02.393993445Z",
     "start_time": "2023-12-09T19:31:02.270575391Z"
    }
   }
  },
  {
   "cell_type": "code",
   "execution_count": 26,
   "outputs": [
    {
     "data": {
      "text/plain": "2"
     },
     "execution_count": 26,
     "metadata": {},
     "output_type": "execute_result"
    }
   ],
   "source": [
    "getPart2Answer(testInput)"
   ],
   "metadata": {
    "collapsed": false,
    "ExecuteTime": {
     "end_time": "2023-12-09T19:31:02.426723624Z",
     "start_time": "2023-12-09T19:31:02.301120052Z"
    }
   }
  },
  {
   "cell_type": "code",
   "execution_count": 27,
   "outputs": [
    {
     "data": {
      "text/plain": "993"
     },
     "execution_count": 27,
     "metadata": {},
     "output_type": "execute_result"
    }
   ],
   "source": [
    "getPart2Answer(input)"
   ],
   "metadata": {
    "collapsed": false,
    "ExecuteTime": {
     "end_time": "2023-12-09T19:31:02.450167995Z",
     "start_time": "2023-12-09T19:31:02.336098628Z"
    }
   }
  },
  {
   "cell_type": "code",
   "execution_count": 32,
   "outputs": [
    {
     "data": {
      "text/plain": "993"
     },
     "execution_count": 32,
     "metadata": {},
     "output_type": "execute_result"
    }
   ],
   "source": [
    "com.convexbase.cy2023.day09.SolveTools.getPart2Answer(input)"
   ],
   "metadata": {
    "collapsed": false,
    "ExecuteTime": {
     "end_time": "2023-12-09T19:31:58.805777221Z",
     "start_time": "2023-12-09T19:31:58.744917872Z"
    }
   }
  },
  {
   "cell_type": "code",
   "execution_count": 29,
   "outputs": [],
   "source": [],
   "metadata": {
    "collapsed": false,
    "ExecuteTime": {
     "end_time": "2023-12-09T19:31:02.537740651Z",
     "start_time": "2023-12-09T19:31:02.393564573Z"
    }
   }
  }
 ],
 "metadata": {
  "kernelspec": {
   "display_name": "Kotlin",
   "language": "kotlin",
   "name": "kotlin"
  },
  "language_info": {
   "name": "kotlin",
   "version": "1.9.0",
   "mimetype": "text/x-kotlin",
   "file_extension": ".kt",
   "pygments_lexer": "kotlin",
   "codemirror_mode": "text/x-kotlin",
   "nbconvert_exporter": ""
  },
  "ktnbPluginMetadata": {
   "projectDependencies": [
    "cold-aoc-kotlin.main",
    "cold-aoc-kotlin.test"
   ]
  }
 },
 "nbformat": 4,
 "nbformat_minor": 0
}
