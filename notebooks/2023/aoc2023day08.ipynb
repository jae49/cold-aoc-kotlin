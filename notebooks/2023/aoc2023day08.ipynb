{
 "cells": [
  {
   "cell_type": "code",
   "execution_count": 1,
   "metadata": {
    "collapsed": true,
    "ExecuteTime": {
     "end_time": "2023-12-08T08:02:49.730976Z",
     "start_time": "2023-12-08T08:02:44.122298292Z"
    }
   },
   "outputs": [],
   "source": [
    "import java.io.File\n",
    "%use kandy, dataframe"
   ]
  },
  {
   "cell_type": "code",
   "execution_count": 2,
   "outputs": [],
   "source": [
    "import com.convexbase.cy2023.day08.LRMap\n",
    "\n",
    "val theInput = File(\"../../src/main/resources/data/2023/day08/input.txt\").readLines()\n",
    "val testinput1 = File(\"../../src/test/resources/data/2023/day08/testinput01.txt\").readLines()\n",
    "val testinput2 = File(\"../../src/test/resources/data/2023/day08/testinput02.txt\").readLines()\n",
    "val testinput3 = File(\"../../src/test/resources/data/2023/day08/testinput03.txt\").readLines()"
   ],
   "metadata": {
    "collapsed": false,
    "ExecuteTime": {
     "end_time": "2023-12-08T08:02:49.891008669Z",
     "start_time": "2023-12-08T08:02:49.731772365Z"
    }
   }
  },
  {
   "cell_type": "code",
   "execution_count": 3,
   "outputs": [
    {
     "data": {
      "text/plain": "[RL, , AAA = (BBB, CCC), BBB = (DDD, EEE), CCC = (ZZZ, GGG), DDD = (DDD, DDD), EEE = (EEE, EEE), GGG = (GGG, GGG), ZZZ = (ZZZ, ZZZ), ]"
     },
     "execution_count": 3,
     "metadata": {},
     "output_type": "execute_result"
    }
   ],
   "source": [
    "testinput1"
   ],
   "metadata": {
    "collapsed": false,
    "ExecuteTime": {
     "end_time": "2023-12-08T08:02:49.964619308Z",
     "start_time": "2023-12-08T08:02:49.865711923Z"
    }
   }
  },
  {
   "cell_type": "code",
   "execution_count": 4,
   "outputs": [
    {
     "data": {
      "text/plain": "[LLR, , AAA = (BBB, BBB), BBB = (AAA, ZZZ), ZZZ = (ZZZ, ZZZ]"
     },
     "execution_count": 4,
     "metadata": {},
     "output_type": "execute_result"
    }
   ],
   "source": [
    "val testLine = \"BBB = (AAA, ZZZ)\"\n",
    "testinput2"
   ],
   "metadata": {
    "collapsed": false,
    "ExecuteTime": {
     "end_time": "2023-12-08T08:02:50.013907573Z",
     "start_time": "2023-12-08T08:02:49.922980113Z"
    }
   }
  },
  {
   "cell_type": "code",
   "execution_count": 5,
   "outputs": [
    {
     "data": {
      "text/plain": "[(AAA, BBB, CCC), (BBB, DDD, EEE), (CCC, ZZZ, GGG), (DDD, DDD, DDD), (EEE, EEE, EEE), (GGG, GGG, GGG), (ZZZ, ZZZ, ZZZ)]"
     },
     "execution_count": 5,
     "metadata": {},
     "output_type": "execute_result"
    }
   ],
   "source": [
    "testinput1.drop(1).filter{ it.isNotBlank()}.map { LRMap.lineToTriple(it) }"
   ],
   "metadata": {
    "collapsed": false,
    "ExecuteTime": {
     "end_time": "2023-12-08T08:02:50.252705401Z",
     "start_time": "2023-12-08T08:02:49.988987671Z"
    }
   }
  },
  {
   "cell_type": "code",
   "execution_count": 6,
   "outputs": [
    {
     "data": {
      "text/plain": "LRMap(directions=[R, L], nodes=[(AAA, BBB, CCC), (BBB, DDD, EEE), (CCC, ZZZ, GGG), (DDD, DDD, DDD), (EEE, EEE, EEE), (GGG, GGG, GGG), (ZZZ, ZZZ, ZZZ)])"
     },
     "execution_count": 6,
     "metadata": {},
     "output_type": "execute_result"
    }
   ],
   "source": [
    "LRMap.toLRMap(testinput1)"
   ],
   "metadata": {
    "collapsed": false,
    "ExecuteTime": {
     "end_time": "2023-12-08T08:02:50.418387278Z",
     "start_time": "2023-12-08T08:02:50.252956976Z"
    }
   }
  },
  {
   "cell_type": "code",
   "execution_count": 7,
   "outputs": [
    {
     "data": {
      "text/plain": "[AAA, BBL, BBT, BCN, BDP, BDQ, BDZ, BFG, BFH, BFK, BGC, BGK, BGL, BGM, BGR, BHH, BHN, BJA, BJQ, BJR, BKF, BKG, BKJ, BKT, BLB, BLM, BNB, BNC, BPB, BPP, BPV, BQA, BQG, BRB, BRF, BRX, BSJ, BSM, BTK, BTQ, BVC, BVH, BVJ, BVK, BVN, BVV, BXD, BXL, BXS, CBH, CBM, CCH, CCQ, CDG, CDJ, CDN, CFC, CFH, CFK, CFQ, CGL, CGM, CHD, CHN, CJD, CJK, CJM, CJT, CKG, CKR, CLM, CLS, CLV, CLX, CMD, CMV, CNP, CNS, CNT, CPF, CPG, CPP, CPQ, CPV, CQC, CQK, CRJ, CSR, CTC, CTL, CVM, CVP, CVT, CXB, CXN, DBL, DBQ, DDN, DFG, DFL, DGC, DGR, DGV, DHJ, DHL, DHV, DJH, DJK, DJX, DKB, DKK, DKV, DLN, DMB, DMG, DMH, DML, DMN, DMQ, DMT, DNG, DNQ, DNS, DPC, DPF, DPG, DPP, DPV, DQX, DRK, DRX, DSH, DSM, DTN, DVG, DXP, DXR, FBB, FCD, FCF, FCG, FCJ, FCK, FDK, FDQ, FDT, FDX, FFM, FGG, FGS, FGT, FHB, FHG, FJJ, FJM, FJX, FKB, FKM, FLG, FLL, FMJ, FML, FMR, FMV, FNB, FNC, FNF, FNM, FNQ, FNR, FNS, FPC, FPG, FPV, FQN, FQP, FRJ, FSC, FSK, FSL, FTH, FVL, FVN, FVR, GBG, GBH, GBJ, GBR, GBX, GCL, GCN, GCP, GCR, GCV, GDD, GDQ, GDS, GFG, GFJ, GFN, GFS, GGG, GGP, GGQ, GHB, GHK, GHM, GHQ, GJB, GJF, GJK, GJL, GJR, GKH, GKV, GLM, GLX, GNZ, GPC, GPS, GQB, GQL, GRC, GSC, GSF, GSG, GSN, GSR, GTF, GTJ, GVD, GVH, GVJ, GXM, GXS, GXV, HBF, HBN, HCH, HCJ, HCR, HDF, HDN, HDR, HFV, HGM, HHF, HHG, HHJ, HHR, HJK, HJM, HJP, HKK, HKP, HKR, HKV, HMK, HMN, HMS, HMT, HMV, HNB, HNS, HNX, HPD, HPM, HPP, HPV, HQL, HQQ, HQS, HRJ, HRL, HRM, HRP, HRR, HSK, HSV, HSX, HTF, HTK, HTL, HTN, HVJ, HXB, HXD, HXH, HXK, HXT, JBG, JBL, JBP, JBQ, JCL, JCM, JCN, JCR, JCX, JDP, JDR, JFB, JFC, JFG, JFJ, JFN, JFR, JGC, JGD, JGV, JGX, JHV, JJG, JJM, JKC, JKD, JKJ, JLG, JLP, JLS, JNB, JNM, JNQ, JNV, JPV, JQB, JQL, JQS, JQX, JSG, JSS, JTG, JTJ, JTN, JTX, JVG, JVP, JXD, JXK, JXL, JXP, JXT, KBC, KBF, KBM, KBP, KCX, KFL, KGS, KGX, KHD, KHF, KHJ, KHV, KJC, KJD, KJK, KKM, KKQ, KKR, KLQ, KMG, KNG, KNP, KPH, KPT, KPZ, KQH, KRJ, KRK, KRP, KSG, KSS, KTB, KTM, KTV, KVD, KVK, KVM, KXH, KXR, LBF, LBQ, LBR, LCB, LCR, LDJ, LDN, LFM, LFP, LGL, LGQ, LHC, LHH, LJG, LLC, LLQ, LMH, LMK, LMM, LMQ, LMT, LND, LNP, LNS, LNV, LPD, LPK, LQK, LRB, LRM, LRP, LSD, LSF, LSL, LTF, LTH, LVF, LVX, LXR, MBD, MBM, MBT, MCR, MCS, MCT, MDH, MDQ, MFF, MGG, MHD, MHR, MHS, MJA, MJC, MKG, MKJ, MKX, MLA, MLR, MMB, MMR, MMT, MNC, MNF, MNP, MNS, MNV, MPR, MQF, MQG, MQP, MQS, MRF, MSL, MSQ, MTD, MTG, MVC, MXB, MXS, NBP, NBX, NDF, NDM, NDS, NFD, NFJ, NFR, NHS, NJM, NJQ, NKS, NLC, NLP, NLQ, NLR, NLS, NNC, NNR, NNX, NPF, NPS, NQD, NQP, NRV, NSD, NSG, NSJ, NSK, NSL, NSM, NSP, NSR, NTN, NTT, NVD, NVL, NVN, NXD, NXL, NXS, PBG, PBS, PCF, PCK, PDK, PDV, PDX, PFD, PFL, PFP, PFQ, PGT, PHL, PHM, PHR, PJG, PJN, PKP, PLL, PMB, PNC, PNT, PPC, PPG, PPH, PPM, PQC, PQM, PRL, PRP, PRR, PSC, PSD, PSF, PSG, PSS, PTF, PTJ, PTL, PTV, PXV, QBB, QBN, QBR, QCC, QCX, QDF, QDK, QDM, QDS, QDT, QDX, QFB, QFN, QFQ, QFX, QGJ, QGV, QHK, QHL, QHP, QJD, QJH, QJM, QJN, QJQ, QKB, QKQ, QLB, QLQ, QLR, QLT, QMB, QMH, QMK, QML, QMQ, QMR, QNN, QPD, QPF, QQJ, QRB, QRC, QSR, QTJ, QTV, QXF, QXJ, QXQ, RBB, RBV, RCH, RDL, RDX, RFC, RFN, RFZ, RGM, RGS, RGT, RHC, RHM, RHV, RJF, RJP, RKN, RKR, RKX, RLG, RMC, RMJ, RMK, RMV, RMX, RPP, RQK, RQQ, RRD, RRF, RRG, RST, RSX, RTF, RTL, RTR, RTV, RVG, RXL, RXN, RXS, SBH, SCC, SCJ, SCM, SCV, SDG, SFD, SFH, SFJ, SGT, SHC, SHD, SHK, SHL, SHM, SHN, SHQ, SHS, SJH, SJN, SKV, SLB, SLT, SMN, SMQ, SMV, SPJ, SQK, SRS, SSL, STK, STP, STR, SVL, SVV, SXB, SXL, SXN, SXQ, SXT, TBJ, TBM, TBN, TBQ, TDD, TDG, TDH, TDN, TDX, TFC, TFR, TGA, TGC, TGX, THL, TJF, TJK, TJL, TJS, TLN, TLP, TLS, TMG, TMR, TMZ, TNR, TNX, TPB, TPF, TPG, TPL, TPN, TPQ, TPX, TQM, TQR, TQV, TRB, TRD, TRL, TSQ, TST, TTK, TTN, TTR, TVB, TVG, TVH, TVQ, TVR, TVS, TXH, TXK, TXN, VBD, VBN, VBR, VCD, VCJ, VDC, VDF, VDG, VDH, VDM, VDV, VFV, VGR, VHG, VHL, VHX, VJC, VJQ, VKC, VKH, VLS, VMG, VMT, VNL, VNV, VPL, VQB, VQK, VQL, VQS, VRC, VRK, VRT, VSN, VSP, VTG, VTN, VTT, VVN, VXC, VXL, XBG, XBP, XCB, XCH, XCL, XCM, XCQ, XDK, XDN, XDR, XDS, XFQ, XGH, XGK, XGN, XHF, XHK, XJL, XKG, XKJ, XKS, XLJ, XLR, XLV, XMQ, XNP, XPD, XPG, XPL, XQD, XQN, XRB, XRL, XRP, XSG, XSV, XSX, XTB, XTH, XTN, XVJ, XVK, XVQ, XXG, XXX, ZZZ]"
     },
     "execution_count": 7,
     "metadata": {},
     "output_type": "execute_result"
    }
   ],
   "source": [
    "val theMap = LRMap.toLRMap(theInput)\n",
    "theMap.nodes.map { it.first }.toList().sorted()"
   ],
   "metadata": {
    "collapsed": false,
    "ExecuteTime": {
     "end_time": "2023-12-08T08:02:50.533592854Z",
     "start_time": "2023-12-08T08:02:50.321138820Z"
    }
   }
  },
  {
   "cell_type": "code",
   "execution_count": 8,
   "outputs": [
    {
     "data": {
      "text/plain": "[AAA, CCC, ZZZ]"
     },
     "execution_count": 8,
     "metadata": {},
     "output_type": "execute_result"
    }
   ],
   "source": [
    "fun nextDirection(step: Int, directions: List<Char>):Char {\n",
    "    return directions[(step % directions.size)]\n",
    "}\n",
    "fun followPath(start: String, end: String, directions: List<Char>, nodes: List<Triple<String,String,String>>, limit: Int = 10_000_000,):List<String> {\n",
    "    val nodemap = nodes.associateBy{it.first}\n",
    "    var index = 0\n",
    "    var currentNode = start\n",
    "    val destinationNode = end\n",
    "    val routeList = mutableListOf<String>()\n",
    "    routeList.add(currentNode)\n",
    "    while (index < limit) {\n",
    "        val direction = directions[(index % directions.size)]\n",
    "        when (direction) {\n",
    "            'L' -> currentNode = nodemap[currentNode]?.second?:throw IllegalArgumentException(\"YIKES Off Track\")\n",
    "            'R' -> currentNode = nodemap[currentNode]?.third?:throw IllegalArgumentException(\"EGADS What Happened\")\n",
    "        }\n",
    "        routeList.add(currentNode)\n",
    "        if (currentNode == destinationNode) break\n",
    "        index++\n",
    "    }\n",
    "    return routeList\n",
    "}\n",
    "\n",
    "val testlrmap = LRMap.toLRMap(testinput1)\n",
    "followPath(\"AAA\", \"ZZZ\", testlrmap.directions, testlrmap.nodes, 100)"
   ],
   "metadata": {
    "collapsed": false,
    "ExecuteTime": {
     "end_time": "2023-12-08T08:02:50.834218070Z",
     "start_time": "2023-12-08T08:02:50.429755836Z"
    }
   }
  },
  {
   "cell_type": "code",
   "execution_count": 9,
   "outputs": [
    {
     "data": {
      "text/plain": "[(AAA, BBB, CCC), (BBB, DDD, EEE), (CCC, ZZZ, GGG), (DDD, DDD, DDD), (EEE, EEE, EEE), (GGG, GGG, GGG), (ZZZ, ZZZ, ZZZ)]"
     },
     "execution_count": 9,
     "metadata": {},
     "output_type": "execute_result"
    }
   ],
   "source": [
    "testlrmap.nodes"
   ],
   "metadata": {
    "collapsed": false,
    "ExecuteTime": {
     "end_time": "2023-12-08T08:02:50.935365291Z",
     "start_time": "2023-12-08T08:02:50.782100790Z"
    }
   }
  },
  {
   "cell_type": "code",
   "execution_count": 10,
   "outputs": [
    {
     "data": {
      "text/plain": "16532"
     },
     "execution_count": 10,
     "metadata": {},
     "output_type": "execute_result"
    }
   ],
   "source": [
    "followPath(\"AAA\", \"ZZZ\", theMap.directions, theMap.nodes, 100000).size"
   ],
   "metadata": {
    "collapsed": false,
    "ExecuteTime": {
     "end_time": "2023-12-08T08:02:50.969620571Z",
     "start_time": "2023-12-08T08:02:50.822105048Z"
    }
   }
  },
  {
   "cell_type": "code",
   "execution_count": 11,
   "outputs": [
    {
     "data": {
      "text/plain": "[R, L, R, L, R, L, R, L, R, L, R, L, R, L, R, L, R, L, R, L, R, L, R, L, R, L, R, L, R, L, R, L, R, L, R, L, R, L, R, L, R, L, R, L, R, L, R, L, R, L, R, L, R, L, R, L, R, L, R, L, R, L, R, L, R, L, R, L, R, L, R, L, R, L, R, L, R, L, R, L, R, L, R, L, R, L, R, L, R, L, R, L, R, L, R, L, R, L, R, L, R]"
     },
     "execution_count": 11,
     "metadata": {},
     "output_type": "execute_result"
    }
   ],
   "source": [
    "(0..100).map{ index -> nextDirection(index, testlrmap.directions)}"
   ],
   "metadata": {
    "collapsed": false,
    "ExecuteTime": {
     "end_time": "2023-12-08T08:02:51.026184793Z",
     "start_time": "2023-12-08T08:02:50.868762625Z"
    }
   }
  },
  {
   "cell_type": "code",
   "execution_count": 12,
   "outputs": [
    {
     "data": {
      "text/plain": "[(ZZZ, 2)]"
     },
     "execution_count": 12,
     "metadata": {},
     "output_type": "execute_result"
    }
   ],
   "source": [
    "testlrmap.followPath(listOf(\"AAA\"), 100)"
   ],
   "metadata": {
    "collapsed": false,
    "ExecuteTime": {
     "end_time": "2023-12-08T08:02:51.150050489Z",
     "start_time": "2023-12-08T08:02:50.938663006Z"
    }
   }
  },
  {
   "cell_type": "code",
   "execution_count": 13,
   "outputs": [
    {
     "data": {
      "text/plain": "[AAA]"
     },
     "execution_count": 13,
     "metadata": {},
     "output_type": "execute_result"
    }
   ],
   "source": [
    "testlrmap.allStarts()"
   ],
   "metadata": {
    "collapsed": false,
    "ExecuteTime": {
     "end_time": "2023-12-08T08:02:51.202239688Z",
     "start_time": "2023-12-08T08:02:51.001419549Z"
    }
   }
  },
  {
   "cell_type": "code",
   "execution_count": 14,
   "outputs": [
    {
     "data": {
      "text/plain": "[MLA, BQA, MJA, AAA, TGA, BJA]"
     },
     "execution_count": 14,
     "metadata": {},
     "output_type": "execute_result"
    }
   ],
   "source": [
    "theMap.allStarts()"
   ],
   "metadata": {
    "collapsed": false,
    "ExecuteTime": {
     "end_time": "2023-12-08T08:02:51.241163096Z",
     "start_time": "2023-12-08T08:02:51.051809902Z"
    }
   }
  },
  {
   "cell_type": "code",
   "execution_count": 25,
   "outputs": [
    {
     "data": {
      "text/plain": "[(KPZ, 19241), (BDZ, 18157), (GNZ, 19783), (ZZZ, 16531), (RFZ, 21409), (TMZ, 14363)]"
     },
     "execution_count": 25,
     "metadata": {},
     "output_type": "execute_result"
    }
   ],
   "source": [
    "theMap.followAllPaths(theMap.allStarts())"
   ],
   "metadata": {
    "collapsed": false,
    "ExecuteTime": {
     "end_time": "2023-12-08T08:04:02.928066300Z",
     "start_time": "2023-12-08T08:04:02.843199990Z"
    }
   }
  },
  {
   "cell_type": "code",
   "execution_count": 28,
   "outputs": [
    {
     "data": {
      "text/plain": "[19241, 18157, 19783, 16531, 21409, 14363]"
     },
     "execution_count": 28,
     "metadata": {},
     "output_type": "execute_result"
    }
   ],
   "source": [
    "val counts = theMap.followAllPaths(theMap.allStarts()).map { it.second}\n",
    "counts"
   ],
   "metadata": {
    "collapsed": false,
    "ExecuteTime": {
     "end_time": "2023-12-08T08:05:00.167732825Z",
     "start_time": "2023-12-08T08:05:00.089825388Z"
    }
   }
  },
  {
   "cell_type": "code",
   "execution_count": 29,
   "outputs": [
    {
     "data": {
      "text/plain": "24035773251517"
     },
     "execution_count": 29,
     "metadata": {},
     "output_type": "execute_result"
    }
   ],
   "source": [
    "import com.convexbase.cy2023.day08.SolveTools\n",
    "\n",
    "SolveTools.Companion.lcm(counts)"
   ],
   "metadata": {
    "collapsed": false,
    "ExecuteTime": {
     "end_time": "2023-12-08T08:05:29.975328141Z",
     "start_time": "2023-12-08T08:05:29.922376048Z"
    }
   }
  },
  {
   "cell_type": "code",
   "execution_count": 16,
   "outputs": [],
   "source": [
    "val test3map = LRMap.toLRMap(testinput3)"
   ],
   "metadata": {
    "collapsed": false,
    "ExecuteTime": {
     "end_time": "2023-12-08T08:02:51.441432718Z",
     "start_time": "2023-12-08T08:02:51.191016318Z"
    }
   }
  },
  {
   "cell_type": "code",
   "execution_count": 17,
   "outputs": [
    {
     "data": {
      "text/plain": "[11A, 22A]"
     },
     "execution_count": 17,
     "metadata": {},
     "output_type": "execute_result"
    }
   ],
   "source": [
    "test3map.allStarts()"
   ],
   "metadata": {
    "collapsed": false,
    "ExecuteTime": {
     "end_time": "2023-12-08T08:02:51.480799146Z",
     "start_time": "2023-12-08T08:02:51.234906819Z"
    }
   }
  },
  {
   "cell_type": "code",
   "execution_count": 18,
   "outputs": [
    {
     "data": {
      "text/plain": "[(11Z, 6), (22Z, 6)]"
     },
     "execution_count": 18,
     "metadata": {},
     "output_type": "execute_result"
    }
   ],
   "source": [
    "test3map.followPath(test3map.allStarts())"
   ],
   "metadata": {
    "collapsed": false,
    "ExecuteTime": {
     "end_time": "2023-12-08T08:02:51.532493906Z",
     "start_time": "2023-12-08T08:02:51.282138054Z"
    }
   }
  },
  {
   "cell_type": "code",
   "execution_count": 23,
   "outputs": [],
   "source": [],
   "metadata": {
    "collapsed": false,
    "ExecuteTime": {
     "end_time": "2023-12-08T08:02:51.702044727Z",
     "start_time": "2023-12-08T08:02:51.612181786Z"
    }
   }
  }
 ],
 "metadata": {
  "kernelspec": {
   "display_name": "Kotlin",
   "language": "kotlin",
   "name": "kotlin"
  },
  "language_info": {
   "name": "kotlin",
   "version": "1.9.0",
   "mimetype": "text/x-kotlin",
   "file_extension": ".kt",
   "pygments_lexer": "kotlin",
   "codemirror_mode": "text/x-kotlin",
   "nbconvert_exporter": ""
  },
  "ktnbPluginMetadata": {
   "projectDependencies": [
    "cold-aoc-kotlin.main",
    "cold-aoc-kotlin.test"
   ]
  }
 },
 "nbformat": 4,
 "nbformat_minor": 0
}
