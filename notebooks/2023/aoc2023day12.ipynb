{
 "cells": [
  {
   "cell_type": "code",
   "execution_count": 1,
   "metadata": {
    "collapsed": true,
    "ExecuteTime": {
     "end_time": "2023-12-13T03:58:48.480838756Z",
     "start_time": "2023-12-13T03:58:42.679860791Z"
    }
   },
   "outputs": [],
   "source": [
    "import java.io.File\n",
    "%use kandy, dataframe"
   ]
  },
  {
   "cell_type": "code",
   "execution_count": 2,
   "outputs": [],
   "source": [
    "val input = File(\"../../src/main/resources/data/2023/day12/input.txt\").readLines()\n",
    "val testInput1 = File(\"../../src/test/resources/data/2023/day12/testinput01.txt\").readLines()\n",
    "val testInput2 = File(\"../../src/test/resources/data/2023/day12/testinput02.txt\").readLines()"
   ],
   "metadata": {
    "collapsed": false,
    "ExecuteTime": {
     "end_time": "2023-12-13T03:58:48.595189419Z",
     "start_time": "2023-12-13T03:58:48.480417394Z"
    }
   }
  },
  {
   "cell_type": "code",
   "execution_count": 3,
   "outputs": [
    {
     "data": {
      "text/plain": "4"
     },
     "execution_count": 3,
     "metadata": {},
     "output_type": "execute_result"
    }
   ],
   "source": [
    "import com.convexbase.cy2023.day12.*\n",
    "\n",
    "D12SolveTools.totalCombinations(2, 2)"
   ],
   "metadata": {
    "collapsed": false,
    "ExecuteTime": {
     "end_time": "2023-12-13T03:58:48.678491079Z",
     "start_time": "2023-12-13T03:58:48.596465464Z"
    }
   }
  },
  {
   "cell_type": "code",
   "execution_count": 4,
   "outputs": [],
   "source": [
    "val drtest1 = DRecord.toDRecord(testInput1)\n",
    "val dr5test1 = DRecord.to5XDrecord(testInput1)"
   ],
   "metadata": {
    "collapsed": false,
    "ExecuteTime": {
     "end_time": "2023-12-13T03:58:48.763181321Z",
     "start_time": "2023-12-13T03:58:48.660178627Z"
    }
   }
  },
  {
   "cell_type": "code",
   "execution_count": 5,
   "outputs": [
    {
     "name": "stdout",
     "output_type": "stream",
     "text": [
      "???.### 1\n",
      ".??..??...?##. 4\n",
      "?#?#?#?#?#?#?#? 1\n",
      "????.#...#... 1\n",
      "????.######..#####. 4\n",
      "?###???????? 10\n"
     ]
    }
   ],
   "source": [
    "for (record in drtest1.rows) {\n",
    "    println(\"${String(record.springs)} ${record.getMatchCount()}\")\n",
    "}"
   ],
   "metadata": {
    "collapsed": false,
    "ExecuteTime": {
     "end_time": "2023-12-13T03:58:48.948069063Z",
     "start_time": "2023-12-13T03:58:48.746693354Z"
    }
   }
  },
  {
   "cell_type": "code",
   "execution_count": 6,
   "outputs": [
    {
     "name": "stdout",
     "output_type": "stream",
     "text": [
      "???.### 1,1,3\n",
      ".??..??...?##. 1,1,3\n",
      "?#?#?#?#?#?#?#? 1,3,1,6\n",
      "????.#...#... 4,1,1\n",
      "????.######..#####. 1,6,5\n",
      "?###???????? 3,2,1\n"
     ]
    }
   ],
   "source": [
    "drtest1.rows.forEach { println(it)}"
   ],
   "metadata": {
    "collapsed": false,
    "ExecuteTime": {
     "end_time": "2023-12-13T03:58:49.096436529Z",
     "start_time": "2023-12-13T03:58:48.947324557Z"
    }
   }
  },
  {
   "cell_type": "code",
   "execution_count": 7,
   "outputs": [],
   "source": [
    "val dr = DRecord.toDRecord(input)"
   ],
   "metadata": {
    "collapsed": false,
    "ExecuteTime": {
     "end_time": "2023-12-13T03:58:49.177793228Z",
     "start_time": "2023-12-13T03:58:49.080338174Z"
    }
   }
  },
  {
   "cell_type": "code",
   "execution_count": 8,
   "outputs": [
    {
     "data": {
      "text/plain": "21"
     },
     "execution_count": 8,
     "metadata": {},
     "output_type": "execute_result"
    }
   ],
   "source": [
    "drtest1.counts"
   ],
   "metadata": {
    "collapsed": false,
    "ExecuteTime": {
     "end_time": "2023-12-13T03:58:49.203759389Z",
     "start_time": "2023-12-13T03:58:49.139900739Z"
    }
   }
  },
  {
   "cell_type": "code",
   "execution_count": 9,
   "outputs": [
    {
     "data": {
      "text/plain": "7716"
     },
     "execution_count": 9,
     "metadata": {},
     "output_type": "execute_result"
    }
   ],
   "source": [
    "dr.counts"
   ],
   "metadata": {
    "collapsed": false,
    "ExecuteTime": {
     "end_time": "2023-12-13T03:58:50.236414250Z",
     "start_time": "2023-12-13T03:58:49.179869137Z"
    }
   }
  },
  {
   "cell_type": "code",
   "execution_count": 13,
   "outputs": [
    {
     "data": {
      "text/plain": ".??..??...?##.?.??..??...?##.?.??..??...?##.?.??..??...?##.?.??..??...?##. 1,1,3,1,1,3,1,1,3,1,1,3,1,1,3"
     },
     "execution_count": 13,
     "metadata": {},
     "output_type": "execute_result"
    }
   ],
   "source": [
    "dr5test1.rows[1]"
   ],
   "metadata": {
    "collapsed": false,
    "ExecuteTime": {
     "end_time": "2023-12-13T03:59:11.546391476Z",
     "start_time": "2023-12-13T03:59:11.490200045Z"
    }
   }
  },
  {
   "cell_type": "code",
   "execution_count": 25,
   "outputs": [
    {
     "data": {
      "text/plain": "17592186044416"
     },
     "execution_count": 25,
     "metadata": {},
     "output_type": "execute_result"
    }
   ],
   "source": [
    "dr5test1.rows[2].possibleCombinationsCount"
   ],
   "metadata": {
    "collapsed": false,
    "ExecuteTime": {
     "end_time": "2023-12-13T04:04:54.328187455Z",
     "start_time": "2023-12-13T04:04:54.271366156Z"
    }
   }
  },
  {
   "cell_type": "code",
   "execution_count": 26,
   "outputs": [
    {
     "data": {
      "text/plain": "44"
     },
     "execution_count": 26,
     "metadata": {},
     "output_type": "execute_result"
    }
   ],
   "source": [
    "dr5test1.rows[2].unknownSprings.size"
   ],
   "metadata": {
    "collapsed": false,
    "ExecuteTime": {
     "end_time": "2023-12-13T04:06:53.013103139Z",
     "start_time": "2023-12-13T04:06:52.958083717Z"
    }
   }
  },
  {
   "cell_type": "code",
   "execution_count": 23,
   "outputs": [
    {
     "data": {
      "text/plain": "536870912"
     },
     "execution_count": 23,
     "metadata": {},
     "output_type": "execute_result"
    }
   ],
   "source": [
    "D12SolveTools.totalCombinations(2, 29)"
   ],
   "metadata": {
    "collapsed": false,
    "ExecuteTime": {
     "end_time": "2023-12-13T04:04:04.863306128Z",
     "start_time": "2023-12-13T04:04:04.811389604Z"
    }
   }
  },
  {
   "cell_type": "code",
   "execution_count": 24,
   "outputs": [
    {
     "data": {
      "text/plain": "5"
     },
     "execution_count": 24,
     "metadata": {},
     "output_type": "execute_result"
    }
   ],
   "source": [
    "drtest1.rows[1].unknownSprings.size"
   ],
   "metadata": {
    "collapsed": false,
    "ExecuteTime": {
     "end_time": "2023-12-13T04:04:26.868618675Z",
     "start_time": "2023-12-13T04:04:26.811089681Z"
    }
   }
  },
  {
   "cell_type": "code",
   "execution_count": null,
   "outputs": [],
   "source": [],
   "metadata": {
    "collapsed": false
   }
  }
 ],
 "metadata": {
  "kernelspec": {
   "display_name": "Kotlin",
   "language": "kotlin",
   "name": "kotlin"
  },
  "language_info": {
   "name": "kotlin",
   "version": "1.9.0",
   "mimetype": "text/x-kotlin",
   "file_extension": ".kt",
   "pygments_lexer": "kotlin",
   "codemirror_mode": "text/x-kotlin",
   "nbconvert_exporter": ""
  },
  "ktnbPluginMetadata": {
   "projectDependencies": [
    "cold-aoc-kotlin.main",
    "cold-aoc-kotlin.test"
   ]
  }
 },
 "nbformat": 4,
 "nbformat_minor": 0
}
